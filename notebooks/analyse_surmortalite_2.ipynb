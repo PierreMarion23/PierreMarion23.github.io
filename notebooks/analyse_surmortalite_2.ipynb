{
 "cells": [
  {
   "cell_type": "markdown",
   "metadata": {},
   "source": [
    "# Estimer la surmortalité causée par l'épidémie de Covid-19 en France (2)"
   ]
  },
  {
   "cell_type": "markdown",
   "metadata": {},
   "source": [
    "Combien de personnes sont décèdées des suites du coronavirus depuis le début de l'épidémie ? Au-delà du chiffre aggrégé sur la France entière, on peut aussi souhaiter connaître le nombre de décès par région, par âge, par sexe, etc. Pour cela, il nous faut stratifier les données selon ces différentes dimensions."
   ]
  },
  {
   "cell_type": "markdown",
   "metadata": {},
   "source": [
    "###  Téléchargements"
   ]
  },
  {
   "cell_type": "markdown",
   "metadata": {},
   "source": [
    "Pour télécharger ce notebook : https://pierremarion23.github.io/notebooks/analyse_surmortalite_2.ipynb\n",
    "\n",
    "Avant de l'exécuter, il faut télécharger et exécuter le noteboook de préparation des données : https://pierremarion23.github.io/notebooks/prep_donnees_covid.ipynb\n",
    "\n",
    "Notebook précédent : https://pierremarion23.github.io/notebooks/analyse_surmortalite_1.ipynb"
   ]
  },
  {
   "cell_type": "markdown",
   "metadata": {
    "extensions": {
     "jupyter_dashboards": {
      "version": 1,
      "views": {
       "grid_default": {},
       "report_default": {
        "hidden": false
       }
      }
     }
    }
   },
   "source": [
    "Source de données : INSEE (voir fichier de préparation des données pour les détails)"
   ]
  },
  {
   "cell_type": "code",
   "execution_count": null,
   "metadata": {},
   "outputs": [],
   "source": [
    "import os\n",
    "import zipfile\n",
    "import datetime\n",
    "import sklearn\n",
    "import bqplot\n",
    "import pickle\n",
    "import copy\n",
    "import json\n",
    "\n",
    "import requests as rq\n",
    "import numpy as np\n",
    "import pandas as pd\n",
    "import ipywidgets as ipw\n",
    "\n",
    "from ipywidgets import Layout\n",
    "from bqplot import (Figure, LinearScale,ColorScale, \n",
    "                    Color, Axis,GridHeatMap, HeatMap, ColorAxis, Label, OrdinalScale, Lines, Map, Mercator, PanZoom)\n",
    "\n",
    "from IPython.display import display, Image\n",
    "from sklearn.preprocessing import OneHotEncoder\n",
    "from sklearn.linear_model import LinearRegression\n",
    "\n",
    "from bqplot import pyplot as plt\n",
    "from scipy import stats as scs\n",
    "from numpy import random as npr"
   ]
  },
  {
   "cell_type": "code",
   "execution_count": null,
   "metadata": {},
   "outputs": [],
   "source": [
    "folder_data = 'insee_data'\n",
    "folder_treated_data = 'treated_data'"
   ]
  },
  {
   "cell_type": "markdown",
   "metadata": {},
   "source": [
    "Notre source de donnée principale est à nouveau la table recensant tous les décès depuis 1998 jusqu'au 6 avril 2020, avec des informations sur chaque décès (sexe de la personne, âge, date du décès)."
   ]
  },
  {
   "cell_type": "code",
   "execution_count": null,
   "metadata": {},
   "outputs": [],
   "source": [
    "path = os.path.join(folder_treated_data, 'deces9820.pkl')\n",
    "deces9820 = pd.read_pickle(path)"
   ]
  },
  {
   "cell_type": "code",
   "execution_count": null,
   "metadata": {},
   "outputs": [],
   "source": [
    "deces9820.tail()"
   ]
  },
  {
   "cell_type": "markdown",
   "metadata": {},
   "source": [
    "### Stratification des décès par classe d'âge et par région"
   ]
  },
  {
   "cell_type": "markdown",
   "metadata": {},
   "source": [
    "Pour stratifier les données, on choisit le niveau de granularité suivant :\n",
    "+ en zone de décès : la région administrative (la Corse est fusionnée avec PACA car les effectifs sont trop petits autrement)\n",
    "+ en âge : 4 classes d'âge (20-39 ans, 40-59 ans, 60-74 ans, et 75 ans et plus)\n",
    "+ en date de décès : le mois\n",
    "\n",
    "La granularité choisie répond à un équilibre entre le fait d'avoir des données suffisamment agrégées pour limiter les fluctuations statistiques, et suffisamment détaillées pour obtenir une information pertinente."
   ]
  },
  {
   "cell_type": "code",
   "execution_count": null,
   "metadata": {},
   "outputs": [],
   "source": [
    "regions = {'Auvergne-Rhône-Alpes': ['01', '03', '07', '15', '26', '38', '42', '43', '63', '69', '73', '74'],\n",
    "       'Bourgogne-Franche-Comté': ['21', '25', '39', '58', '70', '71', '89', '90'], \n",
    "       'Bretagne': ['22', '29', '35', '56'],\n",
    "       'Centre-Val-de-Loire': ['18', '28', '36', '37', '41', '45'], \n",
    "       'Grand Est': ['08', '10', '51', '52', '54', '55', '57', '67', '68', '88'], \n",
    "       'Hauts-de-France': ['02', '59', '60', '62', '80'],\n",
    "       'Ile-de-France': ['75', '92', '93', '94', '95', '78', '91', '77'],\n",
    "       'Normandie': ['14', '27', '50', '61', '76'],\n",
    "       'Nouvelle-Aquitaine': ['16', '17', '19', '23', '24', '33', '40', '47', '64', '79', '86', '87'],\n",
    "       'Occitanie': ['09', '11', '12', '30', '31', '32', '34', '46', '48', '65', '66', '81', '82'],\n",
    "       'Pays de la Loire': ['44', '49', '53', '72', '85'],\n",
    "       \"Provence-Alpes-Côte d'Azur-Corse\": ['04', '05', '13', '83', '84', '2A', '2B']  \n",
    "           # on enlève provisoirement le 06 à cause de pbs de remontées de donnée, cf https://www.insee.fr/fr/information/4470857\n",
    "      }"
   ]
  },
  {
   "cell_type": "code",
   "execution_count": null,
   "metadata": {},
   "outputs": [],
   "source": [
    "classes = {\n",
    "    '20-39': ['20 à 24 ans', '25 à 29 ans', '30 à 34 ans', '35 à 39 ans'],\n",
    "    '40-59': ['40 à 44 ans', '45 à 49 ans', '50 à 54 ans', '55 à 59 ans'],\n",
    "    '60-74': ['60 à 64 ans', '65 à 69 ans', '70 à 74 ans'], \n",
    "    '75+': ['75 à 79 ans', '80 à 84 ans', '85 à 89 ans', '90 à 94 ans', '95 ans et plus']\n",
    "}"
   ]
  },
  {
   "cell_type": "code",
   "execution_count": null,
   "metadata": {},
   "outputs": [],
   "source": [
    "dep2region = {}\n",
    "for region in regions:\n",
    "    for dep in regions[region]:\n",
    "        dep2region[dep] = region"
   ]
  },
  {
   "cell_type": "code",
   "execution_count": null,
   "metadata": {},
   "outputs": [],
   "source": [
    "age2class = {}\n",
    "for c in classes:\n",
    "    for age in classes[c]:\n",
    "        age2class[age] = c"
   ]
  },
  {
   "cell_type": "code",
   "execution_count": null,
   "metadata": {},
   "outputs": [],
   "source": [
    "ages = list(age2class.keys())"
   ]
  },
  {
   "cell_type": "code",
   "execution_count": null,
   "metadata": {},
   "outputs": [],
   "source": [
    "def batch_age(a):\n",
    "    if pd.isna(a):\n",
    "        return a\n",
    "    return age2class[ages[min(int((a-20)//5), 15)]]"
   ]
  },
  {
   "cell_type": "code",
   "execution_count": null,
   "metadata": {},
   "outputs": [],
   "source": [
    "def batch_dep(d):\n",
    "    try:\n",
    "        return dep2region[d]\n",
    "    except:\n",
    "        return 'Autre'"
   ]
  },
  {
   "cell_type": "code",
   "execution_count": null,
   "metadata": {},
   "outputs": [],
   "source": [
    "deces9820.loc[:,'age'] = deces9820['age'].transform(batch_age)\n",
    "deces9820.loc[:,'region'] = deces9820['depdeces'].transform(batch_dep)\n",
    "#deces9820.drop(columns=['deces_annee'], inplace=True)"
   ]
  },
  {
   "cell_type": "markdown",
   "metadata": {},
   "source": [
    "Un extrait de notre base de données de décès, avec les agrégations par classe d'âge et par région."
   ]
  },
  {
   "cell_type": "code",
   "execution_count": null,
   "metadata": {},
   "outputs": [],
   "source": [
    "deces9820.tail()"
   ]
  },
  {
   "cell_type": "markdown",
   "metadata": {},
   "source": [
    "On compte le nombre de décès par mois, classe d'âge, région et sexe."
   ]
  },
  {
   "cell_type": "code",
   "execution_count": null,
   "metadata": {},
   "outputs": [],
   "source": [
    "deces_pivot = pd.pivot_table(deces9820[(deces9820[\"annee\"] >= 1999) &(deces9820[\"region\"] != \"Autre\")], values=[\"depdeces\"], index=['age', 'sexe', 'region'], columns=['annee', 'month'], aggfunc='count', fill_value=0)"
   ]
  },
  {
   "cell_type": "code",
   "execution_count": null,
   "metadata": {},
   "outputs": [],
   "source": [
    "deces_pivot"
   ]
  },
  {
   "cell_type": "code",
   "execution_count": null,
   "metadata": {},
   "outputs": [],
   "source": [
    "deces_pivot_np = deces_pivot.to_numpy()\n",
    "deces_pivot_np = deces_pivot_np[:,4:]  # enlever les 4 premiers mois de 99, pour avoir un nombre de mois multiple de 12"
   ]
  },
  {
   "cell_type": "markdown",
   "metadata": {},
   "source": [
    "### Stratification de la population par classe d'âge et par région "
   ]
  },
  {
   "cell_type": "markdown",
   "metadata": {},
   "source": [
    "On fait les mêmes opérations sur la table de population."
   ]
  },
  {
   "cell_type": "code",
   "execution_count": null,
   "metadata": {},
   "outputs": [],
   "source": [
    "path = os.path.join(folder_treated_data, 'population_dep_classeage_sexe_9920.pkl')\n",
    "pop9920 = pd.read_pickle(path)"
   ]
  },
  {
   "cell_type": "code",
   "execution_count": null,
   "metadata": {},
   "outputs": [],
   "source": [
    "def agg_region(index):\n",
    "    dep, sexe, annee = index\n",
    "    if dep == '06':\n",
    "        region = 'Autre'\n",
    "    else:\n",
    "        region = dep2region[dep]\n",
    "    return region, sexe, annee"
   ]
  },
  {
   "cell_type": "code",
   "execution_count": null,
   "metadata": {},
   "outputs": [],
   "source": [
    "pop9920_regions = pop9920.groupby(by=agg_region).sum()\n",
    "pop9920_regions.index = pd.MultiIndex.from_tuples(pop9920_regions.index, names=('Région', 'Sexe', 'Année'))\n",
    "pop9920_regions_classes = pop9920_regions.groupby(by=lambda a: age2class[a], axis=1).sum()\n",
    "pop9920_regions_classes = pop9920_regions_classes.unstack().stack(-2)\n",
    "pop9920_regions_classes = pop9920_regions_classes.iloc[8:].swaplevel(-1, -3).sort_index()  # enlever région \"Autre\""
   ]
  },
  {
   "cell_type": "code",
   "execution_count": null,
   "metadata": {},
   "outputs": [],
   "source": [
    "pop9920_regions_classes"
   ]
  },
  {
   "cell_type": "code",
   "execution_count": null,
   "metadata": {},
   "outputs": [],
   "source": [
    "pop9920_regions_classes_np = pop9920_regions_classes.to_numpy()"
   ]
  },
  {
   "cell_type": "markdown",
   "metadata": {},
   "source": [
    "On calcule les taux de décès en divisant le nombre de morts par la population (comme dans le notebook précédent). On visualise ensuite l'évolution de ces taux au cours des années. Ils ont tendance à diminuer grâce à l'amélioration de l'espérance de vie. La composante saisonnière est beaucoup plus forte pour les personnes âgées que pour les personnes jeunes."
   ]
  },
  {
   "cell_type": "code",
   "execution_count": null,
   "metadata": {},
   "outputs": [],
   "source": [
    "taux0020 = deces_pivot_np / np.repeat(pop9920_regions_classes_np[:,1:], 12).reshape(96, 21* 12)"
   ]
  },
  {
   "cell_type": "code",
   "execution_count": null,
   "metadata": {
    "scrolled": false
   },
   "outputs": [],
   "source": [
    "i = 0\n",
    "x = np.arange(1999.42, 2020.33, 1/12)   # todo: better formula\n",
    "for age in classes.keys():\n",
    "    for sexe in [1, 2]:\n",
    "        plt.figure(legend_location=\"bottom-left\")\n",
    "        for j, reg in zip(range(12), list(regions.keys())):\n",
    "            plt.plot(x, taux0020[i*12+j, :-1], colors=[bqplot.CATEGORY10[j%10]], labels=[reg])\n",
    "        xax, yax = plt.axes()['x'], plt.axes()['y']\n",
    "        xax.tick_values = np.arange(2000, 2021, 1)\n",
    "        plt.ylim(min=0, max=taux0020[i*12:(i+1)*12, :-1].max())\n",
    "        plt.title('Taux de décès par région, sexe = {}, age = {}'.format(sexe, age))\n",
    "        plt.show()\n",
    "        i += 1"
   ]
  },
  {
   "cell_type": "markdown",
   "metadata": {},
   "source": [
    "On peut enfin passer à la partie régression. Notre modèle est le suivant : le taux de mortalité au mois $m$, l'année $t$, pour la région $r$, la classe d'âge $a$ et le sexe $s$ s'écrit :\n",
    "\n",
    "$$T_{m, t, a, s} = \\alpha_{a} \\rho_{r} \\sigma_{s} \\prod_{i=1}^{5}T_{m, t-i, a, s}^{ \\beta_{i}}$$\n",
    "\n",
    "autrement dit comme une moyenne géométrique pondérée des taux de mortalité des cinq mois précédents, corrigé par des facteurs multiplicatifs pour la classe d'âge, la région et le sexe. "
   ]
  },
  {
   "cell_type": "markdown",
   "metadata": {},
   "source": [
    "Concrètement, on passe au log, et on code chacune des caractéristiques (classe d'âge, région, sexe) en One Hot Encoding."
   ]
  },
  {
   "cell_type": "code",
   "execution_count": null,
   "metadata": {},
   "outputs": [],
   "source": [
    "X0019 = taux0020.reshape(96, 21, 12)[:,:-1,-7:-2]\n",
    "y0019 = taux0020.reshape(96, 21, 12)[:,:-1,-2]\n",
    "X20 = np.log(taux0020.reshape(96, 21, 12)[:,-1,-7:-2])\n",
    "X = np.log(np.rollaxis(X0019, 2).reshape(5, 96*20))\n",
    "y = np.log(y0019.reshape(-1))"
   ]
  },
  {
   "cell_type": "code",
   "execution_count": null,
   "metadata": {},
   "outputs": [],
   "source": [
    "features = list(pop9920_regions_classes.index)"
   ]
  },
  {
   "cell_type": "code",
   "execution_count": null,
   "metadata": {},
   "outputs": [],
   "source": [
    "enc = OneHotEncoder(drop=['75+', 1, 'Auvergne-Rhône-Alpes'])\n",
    "enc.fit(features)\n",
    "one_hot_features = enc.transform(features)\n",
    "one_hot = np.repeat(one_hot_features.toarray(), 20).reshape((96, 15, 20))\n",
    "X = np.vstack([X, np.swapaxes(one_hot, 0, 1).reshape(15, 96*20)])\n",
    "X20 = np.hstack([X20, one_hot_features.toarray()])"
   ]
  },
  {
   "cell_type": "code",
   "execution_count": null,
   "metadata": {},
   "outputs": [],
   "source": [
    "reg = LinearRegression()\n",
    "reg.fit(X.T, y)\n",
    "\n",
    "y_pred_hist = reg.predict(X.T).reshape(96, 20)\n",
    "std_hist = np.std(y.reshape(96,20)-y_pred_hist, axis=1)\n",
    "\n",
    "y_pred = reg.predict(X20)\n",
    "ratio_type = (np.log(taux0020.reshape(96, 21, 12)[:,-1,-2]) - y_pred)/std_hist"
   ]
  },
  {
   "cell_type": "code",
   "execution_count": null,
   "metadata": {},
   "outputs": [],
   "source": [
    "deces_mars20 = np.exp(y_pred)*pop9920_regions_classes_np[:,-1]"
   ]
  },
  {
   "cell_type": "markdown",
   "metadata": {},
   "source": [
    "On peut calculer le nombre de décès additionnels en mars. On trouve une valeur proche de celle trouvée dans le notebook précédent (c'est heureux !)."
   ]
  },
  {
   "cell_type": "code",
   "execution_count": null,
   "metadata": {},
   "outputs": [],
   "source": [
    "print('Décès additionnels en mars: ' + str(deces_pivot_np[:,-2].sum()-deces_mars20.sum()))"
   ]
  },
  {
   "cell_type": "markdown",
   "metadata": {},
   "source": [
    "Mais l'intérêt de notre démarche était justement d'avoir des informations détaillées au niveau de la région, de l'âge, du sexe. Pour les visualiser, plutôt que de représenter directement la mortalité excédentaire, on visualise la déviation par rapport à notre prédiction, normalisée par l'écart-type empirique pour la strate correspondante. Par exemple, le premier graphe ci-dessous indique que la déviation de mortalité chez les hommes de 20-39 ans en Grand Est en mars 2020 atteint environ 3 fois la déviation standard dans cette population à cette période de l'année. En dessous de $\\pm$1,5 déviation standard, on considère que la déviation est normale, et on l'écrête à zéro (c'est du \"soft thresholding\").\n",
    "\n",
    "On constate des déviations positives importantes dans les régions touchées par l'épidémie :Ile-de-France, Grand Est et dans une moindre mesure Bourgogne-Franche-Comté, Hauts-de-France et Auvergne-Rhône-Alpes. Notons que ces déviations, si elles touchent en premier lieu la classe d'âge des 75 ans et plus, affectent aussi les autres classes d'âge, en particulier en Ile-de-France.\n",
    "\n",
    "A l'inverse, des déviations négatives sont observées dans certaines régions peu touchées par l'épidémie, chez les personnes de moins de 74 ans. Ces déviations peuvent peut-être s'expliquer par le ralentissement de l'activité économique."
   ]
  },
  {
   "cell_type": "code",
   "execution_count": null,
   "metadata": {},
   "outputs": [],
   "source": [
    "path = os.path.join(folder_data, 'france.json')\n",
    "with open(path) as data_file:\n",
    "    data = json.load(data_file)"
   ]
  },
  {
   "cell_type": "code",
   "execution_count": null,
   "metadata": {},
   "outputs": [],
   "source": [
    "regions2num = {'Auvergne-Rhône-Alpes': 12,\n",
    "       'Bourgogne-Franche-Comté': 2, \n",
    "       'Bretagne': 3,\n",
    "       'Centre-Val-de-Loire': 4, \n",
    "       'Grand Est': 0, \n",
    "       'Hauts-de-France': 7,\n",
    "       'Île-de-France': 11,\n",
    "       'Normandie': 8,\n",
    "       'Nouvelle-Aquitaine': 1,\n",
    "       'Occitanie': 6,\n",
    "       'Pays de la Loire': 9,\n",
    "       \"Provence-Alpes-Côte d'Azur-Corse\": 10\n",
    "      }"
   ]
  },
  {
   "cell_type": "code",
   "execution_count": null,
   "metadata": {},
   "outputs": [],
   "source": [
    "def soft_threshold(x, thres):\n",
    "    if x > - thres and x < thres:\n",
    "        return 0\n",
    "    return x"
   ]
  },
  {
   "cell_type": "code",
   "execution_count": null,
   "metadata": {},
   "outputs": [],
   "source": [
    "sc_geo = Mercator(scale_factor = 2700, center=(3.5, 48.8))\n",
    "sc_c1 = ColorScale(scheme='Spectral', min=-7, max=7, reverse=True)\n",
    "axis = ColorAxis(scale=sc_c1, side='right', orientation='vertical')\n",
    "panzoom = PanZoom(allow_zoom=False)"
   ]
  },
  {
   "cell_type": "code",
   "execution_count": null,
   "metadata": {
    "scrolled": false
   },
   "outputs": [],
   "source": [
    "i=0\n",
    "figy=[]\n",
    "for age in classes.keys():\n",
    "    figx=[]\n",
    "    for sexe in [1, 2]:       \n",
    "        dic = {}\n",
    "        j = 0\n",
    "        for reg, num in regions2num.items():\n",
    "            dic[num] = soft_threshold(ratio_type[i*12+j], 1.5)\n",
    "            j += 1\n",
    "        map_styles = {'color': dic, 'scales': {'projection': sc_geo, 'color': sc_c1}, 'colors': {'default_color': 'Grey'}}\n",
    "        chloro_map = Map(map_data=data, **map_styles)\n",
    "        if sexe == 1:\n",
    "            fig = Figure(marks=[chloro_map], axes=[axis], title='Sexe={}, age={}'.format(sexe, age), layout=Layout(width='600px', height='500px'), interaction=panzoom)\n",
    "        else:\n",
    "            fig = Figure(marks=[chloro_map], title='Sexe={}, age={}'.format(sexe, age), layout=Layout(width='600px', height='500px'), interaction=panzoom)\n",
    "        figx.append(fig) #fig_margin = dict(top=30, bottom=10, left=20, right=20)\n",
    "        #if sexe == 1:\n",
    "        #    figx.append(ipw.Image(value=open(\"ax_c2.png\", \"rb\").read(), format='png', layout=Layout(max_height='300px')))\n",
    "        i += 1\n",
    "    figy.append(ipw.HBox(figx, layout=Layout(align_items='center')))\n",
    "display(ipw.VBox(figy, align_content = 'stretch'))"
   ]
  },
  {
   "cell_type": "markdown",
   "metadata": {},
   "source": [
    "On peut aussi représenter directement le nombre \"brut\" de décès excédentaire."
   ]
  },
  {
   "cell_type": "code",
   "execution_count": null,
   "metadata": {},
   "outputs": [],
   "source": [
    "sc_c2 = ColorScale(scheme='BuPu', min=0, max=1000)\n",
    "axis2 = ColorAxis(scale=sc_c2, side='right', orientation='vertical')"
   ]
  },
  {
   "cell_type": "code",
   "execution_count": null,
   "metadata": {
    "scrolled": false
   },
   "outputs": [],
   "source": [
    "i=0\n",
    "figy=[]\n",
    "for age in classes.keys():\n",
    "    figx=[]\n",
    "    for sexe in [1, 2]:       \n",
    "        dic = {}\n",
    "        j = 0\n",
    "        for reg, num in regions2num.items():\n",
    "            dic[num] = (deces_pivot_np[:,-2]-deces_mars20)[i*12+j]\n",
    "            j += 1\n",
    "        map_styles = {'color': dic, 'scales': {'projection': sc_geo, 'color': sc_c2}, 'colors': {'default_color': 'Grey'}}\n",
    "        chloro_map = Map(map_data=data, **map_styles)\n",
    "        if sexe == 1:\n",
    "            fig = Figure(marks=[chloro_map], axes=[axis2], title='Sexe={}, age={}'.format(sexe, age), layout=Layout(width='600px', height='500px'), interaction=panzoom,\n",
    "                        fig_margin = dict(top=60, bottom=0, left=20, right=100))\n",
    "        else:\n",
    "            fig = Figure(marks=[chloro_map], title='Sexe={}, age={}'.format(sexe, age), layout=Layout(width='600px', height='500px'), interaction=panzoom)\n",
    "        figx.append(fig)\n",
    "        #if sexe == 1:\n",
    "        #    figx.append(ipw.Image(value=open(\"ax_c.png\", \"rb\").read(), format='png', layout=Layout(max_height='300px')))\n",
    "        i += 1\n",
    "    figy.append(ipw.HBox(figx, layout=Layout(align_items='center'))) \n",
    "display(ipw.VBox(figy, align_content = 'stretch'))"
   ]
  },
  {
   "cell_type": "markdown",
   "metadata": {},
   "source": [
    "### Transferts entre régions "
   ]
  },
  {
   "cell_type": "markdown",
   "metadata": {},
   "source": [
    "L'analyse précédente est basée sur la région de décès des personnes. Or il est évident qu'on ne décède pas nécessairement dans la région où on est domicilié. On a donc potentiellement introduit un biais, en particulier à la lumière des transferts de patients ayant eu lieu pendant l'épidémie : il se peut qu'une partie de la mortalité apparaissant en Bretagne par exemple soit la conséquence du transfert de patient depuis l'Ile-de-France. Pour quantifier ce phénomène, on utilise les données exceptionnelles pour 2018-2020 mises à disposition par l'INSEE, avec en particulier la région de domiciliation des personnes décèdées. On va donc pouvoir comparer le nombre de personnes qui décèdent en dehors de leur région de domiciliation en temps normal et depuis le début de l'épidémie."
   ]
  },
  {
   "cell_type": "code",
   "execution_count": null,
   "metadata": {},
   "outputs": [],
   "source": [
    "def to_region(dep):\n",
    "    try:\n",
    "        return dep2region[dep]\n",
    "    except:\n",
    "        return 'Outre-Mer'"
   ]
  },
  {
   "cell_type": "code",
   "execution_count": null,
   "metadata": {},
   "outputs": [],
   "source": [
    "path = open(os.path.join(folder_treated_data, \"detail_deces1820.pkl\"), \"rb\")\n",
    "region_deces = pickle.load(path)"
   ]
  },
  {
   "cell_type": "code",
   "execution_count": null,
   "metadata": {},
   "outputs": [],
   "source": [
    "region_deces['regdeces'] = region_deces['depdeces'].transform(to_region)\n",
    "region_deces['regdom'] = region_deces['depdom'].transform(to_region)"
   ]
  },
  {
   "cell_type": "code",
   "execution_count": null,
   "metadata": {},
   "outputs": [],
   "source": [
    "region_deces.tail()"
   ]
  },
  {
   "cell_type": "code",
   "execution_count": null,
   "metadata": {},
   "outputs": [],
   "source": [
    "def compute_transfert(date_debut, date_fin):\n",
    "    regdec = region_deces['regdeces'][(region_deces['deces_date'] >= date_debut) & (region_deces['deces_date'] <= date_fin)]\n",
    "    regdom = region_deces['regdom'][(region_deces['deces_date'] >= date_debut) & (region_deces['deces_date'] <= date_fin)]\n",
    "    transfert = pd.concat([regdec, regdom], axis=1)\n",
    "    transfert_pd = pd.pivot_table(transfert, index=[regdec], columns=[regdom], aggfunc='count', fill_value=0)\n",
    "    transfert_matrix = np.array(transfert_pd)[:,:13] / (date_fin - date_debut).days\n",
    "    for i in range(13):\n",
    "        transfert_matrix[i,i]=0\n",
    "    return transfert_matrix\n",
    "\n",
    "def plot_heatmap(transfert_matrix, date_begin, date_end, show_c=True):\n",
    "    x = ['ARA', 'BFC', 'Bre.', 'CVL', 'GE', 'HdF', 'IdF', 'Nor.', 'NA', 'Occ.', 'OM', 'PdL', 'PACA']\n",
    "\n",
    "    x_sc, y_sc, col_sc = OrdinalScale(domain=x), OrdinalScale(domain=x), ColorScale(scheme='BuPu', min=0, max=3)\n",
    "    heat = GridHeatMap(column=x, row=x, color=transfert_matrix,\n",
    "                   scales={'row': y_sc, 'column': x_sc, 'color': col_sc}, stroke='white')\n",
    "   # heat.display_format = '.2f'\n",
    "    heat.font_style={'font-size': '12px', 'fill':'black', 'font-weight': 'bold'}\n",
    "    ax_x = Axis(scale=x_sc, label='Lieu de résidence')\n",
    "    ax_y = Axis(scale=y_sc, orientation='vertical', grid_lines='none', label='Lieu de décès', label_offset='45px')\n",
    "    ax_c = ColorAxis(scale=col_sc, side='right', orientation='vertical')\n",
    "    if show_c:\n",
    "        axes = [ax_x, ax_y, ax_c]\n",
    "    else:\n",
    "        axes = [ax_x, ax_y]\n",
    "    fig = Figure(marks=[heat], axes=axes,\n",
    "                 title='Transferts entre {} et {}'.format(date_begin.strftime(\"%d/%m/%Y\"), date_end.strftime(\"%d/%m/%Y\")),\n",
    "                 layout=Layout(width='700px', height='600px'),\n",
    "                 min_aspect_ratio=1, max_aspect_ratio=1, padding_y=0, background_style={'fill':'white'})\n",
    "    return fig"
   ]
  },
  {
   "cell_type": "markdown",
   "metadata": {},
   "source": [
    "Le graphe représente le nombre moyen journalier de personnes qui décèdent dans une autre région que leur région de domicile. On observe que les transferts concernent de manière importante la région Ile-de-France, ce qui peut s'expliquer par le dynamisme économique de la région (beaucoup de voyageurs de passage) et par sa concentration importante en hopitaux. Ces transferts représentent au total environ 50 personnes par jour, ce qui est faible devant la mortalité totale (environ 1500 personnes par jour en France). Le biais introduit est donc raisonnable."
   ]
  },
  {
   "cell_type": "markdown",
   "metadata": {},
   "source": [
    "On trace le même graphe pendant l'épidémie. On n'observe pas de différence significative, ce qui nous amène à penser que les transferts de patients n'ont pas eu d'effet visible sur la mortalité trans-régionale."
   ]
  },
  {
   "cell_type": "code",
   "execution_count": null,
   "metadata": {},
   "outputs": [],
   "source": [
    "date_begin = datetime.datetime(2018,1,1)\n",
    "date_end = datetime.datetime(2020,2,29)\n",
    "tm1 = compute_transfert(date_begin, date_end)\n",
    "fig1 = plot_heatmap(tm1, date_begin, date_end)\n",
    "\n",
    "date_begin = datetime.datetime(2020,3,1)\n",
    "date_end = datetime.datetime(2020,4,13)\n",
    "tm2 = compute_transfert(date_begin, date_end)\n",
    "fig2 = plot_heatmap(tm2, date_begin, date_end, show_c=False)\n",
    "\n",
    "display(ipw.HBox([fig1, fig2]))\n",
    "#display(Image(\"heatmaps.png\"))"
   ]
  },
  {
   "cell_type": "code",
   "execution_count": null,
   "metadata": {},
   "outputs": [],
   "source": []
  }
 ],
 "metadata": {
  "kernelspec": {
   "display_name": "Python 3",
   "language": "python",
   "name": "python3"
  },
  "language_info": {
   "codemirror_mode": {
    "name": "ipython",
    "version": 3
   },
   "file_extension": ".py",
   "mimetype": "text/x-python",
   "name": "python",
   "nbconvert_exporter": "python",
   "pygments_lexer": "ipython3",
   "version": "3.7.3"
  }
 },
 "nbformat": 4,
 "nbformat_minor": 4
}
