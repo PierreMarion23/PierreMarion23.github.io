{
 "cells": [
  {
   "cell_type": "markdown",
   "metadata": {},
   "source": [
    "# Surmortalité du coronavirus : préparation des données"
   ]
  },
  {
   "cell_type": "markdown",
   "metadata": {},
   "source": [
    "Attention, changer les valeurs ci-dessous avant d'exécuter le notebook !"
   ]
  },
  {
   "cell_type": "code",
   "execution_count": null,
   "metadata": {},
   "outputs": [],
   "source": [
    "folder_data = 'raw_data'  # dossier de téléchargement des données INSEE\n",
    "folder_treated_data = 'treated_data'  # dossier d'enregistrement des données préparées\n",
    "recompute_9819 = False   # Passer à False après la première exécution du notebook (étape très longue), utile pour recalculer seulement pour 2020"
   ]
  },
  {
   "cell_type": "markdown",
   "metadata": {},
   "source": [
    "Sources : INSEE et Santé Publique France\n",
    "+ Population (série longue) : https://www.insee.fr/fr/statistiques/4135499?sommaire=4136000\n",
    "+ Fichier des décès : https://www.insee.fr/fr/information/4190491\n",
    "+ Suivi extraordinaire des décès pour l'épidémie : https://www.insee.fr/fr/information/4470857\n",
    "+ Population au 1er janvier 2018 : https://www.insee.fr/fr/statistiques/3303333?sommaire=3353488\n",
    "+ Population au 1er janvier 2019 : https://www.insee.fr/fr/statistiques/3676587?sommaire=3696937\n",
    "+ Population au 1er janvier 2020 : https://www.insee.fr/fr/statistiques/1892086?sommaire=1912926\n",
    "+ Décès rapportés en milieu hospitalier et en EHPAD : https://www.data.gouv.fr/fr/datasets/donnees-hospitalieres-relatives-a-lepidemie-de-covid-19/#resource-community-32c685b2-2ff8-44d6-a647-5df16cdaa6b1"
   ]
  },
  {
   "cell_type": "code",
   "execution_count": null,
   "metadata": {},
   "outputs": [],
   "source": [
    "import os\n",
    "import zipfile\n",
    "import datetime\n",
    "import sklearn\n",
    "import bqplot\n",
    "import pickle\n",
    "\n",
    "import requests as rq\n",
    "import numpy as np\n",
    "import pandas as pd\n",
    "import ipywidgets as ipw\n",
    "\n",
    "from bqplot import pyplot as plt\n",
    "from scipy import stats as scs\n",
    "from numpy import random as npr"
   ]
  },
  {
   "cell_type": "code",
   "execution_count": null,
   "metadata": {},
   "outputs": [],
   "source": [
    "try:\n",
    "    os.makedirs(folder_data)\n",
    "    to_download = True\n",
    "except:\n",
    "    to_download = False\n",
    "    pass\n",
    "os.makedirs(folder_treated_data, exist_ok=True)\n",
    "\n",
    "def download(url):\n",
    "    filename = url.split('/')[-1]\n",
    "    path = os.path.join(folder_data, filename)\n",
    "    res = rq.get(url, timeout=50)\n",
    "    res.raise_for_status()\n",
    "    with open(path, 'wb') as f:\n",
    "        f.write(res.content)\n",
    "    print(f'saved {path}')\n",
    "    return path\n",
    "\n",
    "def extract(path):\n",
    "    with zipfile.ZipFile(path, 'r') as obj:\n",
    "        obj.extractall(folder_data)\n",
    "    print(f'extracted {path}')\n",
    "        \n",
    "def download_extract(url):\n",
    "    path = download(url)\n",
    "    extract(path)\n",
    "    "
   ]
  },
  {
   "cell_type": "code",
   "execution_count": null,
   "metadata": {},
   "outputs": [],
   "source": [
    "if to_download:\n",
    "    urls = [\n",
    "        'https://www.insee.fr/fr/statistiques/fichier/4190491/Deces_2020_M03.zip',\n",
    "        'https://www.insee.fr/fr/statistiques/fichier/4190491/Deces_2020_M02.zip',\n",
    "        'https://www.insee.fr/fr/statistiques/fichier/4190491/Deces_2020_M01.zip',\n",
    "        'https://www.insee.fr/fr/statistiques/fichier/4190491/deces-2010-2018-csv.zip',\n",
    "        'https://www.insee.fr/fr/statistiques/fichier/4190491/deces-2000-2009-csv.zip',\n",
    "        'https://www.insee.fr/fr/statistiques/fichier/4190491/deces-1990-1999-csv.zip',\n",
    "        'https://www.insee.fr/fr/statistiques/fichier/4135499/fe_t6.xls',\n",
    "        'https://www.insee.fr/fr/statistiques/fichier/3676587/T19F032.xls',\n",
    "        'https://www.insee.fr/fr/statistiques/fichier/1892086/pop-totale-france.xls',\n",
    "        'https://www.insee.fr/fr/statistiques/fichier/3303333/T18F032.xls',\n",
    "    ]\n",
    "\n",
    "    for url in urls:\n",
    "        download_extract(url)"
   ]
  },
  {
   "cell_type": "code",
   "execution_count": null,
   "metadata": {
    "collapsed": true,
    "jupyter": {
     "outputs_hidden": true
    }
   },
   "outputs": [],
   "source": [
    "# Fichier JSON pour régions France\n",
    "if to_download:\n",
    "    url = 'https://www.pierremarion23.github.io/notebooks/france.json'\n",
    "    download(url)"
   ]
  },
  {
   "cell_type": "code",
   "execution_count": null,
   "metadata": {},
   "outputs": [],
   "source": [
    "# Données mises à jour régulièrement (une fois par semaine)\n",
    "url = 'https://www.insee.fr/fr/statistiques/fichier/4470857/2020-04-24_detail.zip'\n",
    "download_extract(url)"
   ]
  },
  {
   "cell_type": "code",
   "execution_count": null,
   "metadata": {},
   "outputs": [],
   "source": [
    "url = 'https://www.data.gouv.fr/fr/datasets/r/32c685b2-2ff8-44d6-a647-5df16cdaa6b1'\n",
    "download(url)\n",
    "os.rename(os.path.join(folder_data, '32c685b2-2ff8-44d6-a647-5df16cdaa6b1'), os.path.join(folder_data, 'deces_hop_ehpad.csv'))"
   ]
  },
  {
   "cell_type": "markdown",
   "metadata": {},
   "source": [
    "### Décès entre 1998 et 2019"
   ]
  },
  {
   "cell_type": "markdown",
   "metadata": {},
   "source": [
    "On rajoute aussi les tables pour début 2020, mais seulement pour prendre en compte les décès de 2019 qui sont rapportés début 2020 (ce décalage peut qui peut arriver pour les décès en fin d'année). Comme cette étape est longue, on le fait seulement si on ne trouve pas déjà le fichier correspondant."
   ]
  },
  {
   "cell_type": "code",
   "execution_count": null,
   "metadata": {},
   "outputs": [],
   "source": [
    "def departement(s):\n",
    "    try:\n",
    "        if s[:2] == '97':\n",
    "            return s[:3]\n",
    "        return s[:2]\n",
    "    except:\n",
    "        return s"
   ]
  },
  {
   "cell_type": "code",
   "execution_count": null,
   "metadata": {
    "scrolled": true
   },
   "outputs": [],
   "source": [
    "if recompute_9819:\n",
    "    \n",
    "    # load data\n",
    "    dfs_deces_raw = []\n",
    "    for year in range(1998, 2020):\n",
    "        path = os.path.join(folder_data, 'deces-{}.csv'.format(year))\n",
    "        dfs_deces_raw.append(pd.read_csv(path, sep=';', usecols=['sexe', 'datenaiss', 'datedeces', 'lieudeces'], dtype={'lieudeces':'str'}))\n",
    "    names = ['deces-2020-m01', 'Deces_2020_M02', 'Deces_2020_M03']\n",
    "    for name in names:\n",
    "        path = os.path.join(folder_data, name + '.csv')\n",
    "        dfs_deces_raw.append(pd.read_csv(path, sep=';', usecols=['sexe', 'datenaiss', 'datedeces', 'lieudeces'], dtype={'lieudeces':'str'}))\n",
    "        \n",
    "    # treat data\n",
    "    for df in dfs_deces_raw:\n",
    "        df.loc[(df['datenaiss'] % 10000) == 0, 'datenaiss'] += 701   # les gens dont on ne connait pas la date de naissance -> 1er juillet\n",
    "        df.loc[(df['datenaiss'] % 10000 - df['datenaiss'] % 100) == 0, 'datenaiss'] += 700\n",
    "        df.loc[(df['datenaiss'] % 100) == 0, 'datenaiss'] += 15\n",
    "        df['deces_date'] = pd.to_datetime(df['datedeces'], format='%Y%m%d', errors='coerce')\n",
    "        df['naiss_date'] = pd.to_datetime(df['datenaiss'], format='%Y%m%d', errors='coerce')\n",
    "        df['age'] = (pd.to_datetime(df['datedeces'], format='%Y', exact=False) - df['naiss_date']).transform(lambda d: d.days // 365) # age au premier janvier\n",
    "        df['depdeces'] = df['lieudeces'].transform(departement)\n",
    "        df['annee'] = pd.to_numeric(df['datedeces'].astype(str).str.slice(0, 4), errors='coerce')\n",
    "        df['month'] = pd.to_numeric(df['datedeces'].astype(str).str.slice(4, 6), errors='coerce')\n",
    "        df['jour_annee'] = df['deces_date'].transform(lambda date: (date-date.replace(month=1, day=1)).days)\n",
    "        df.drop(columns=['lieudeces', 'datenaiss', 'datedeces', 'naiss_date'], inplace=True)\n",
    "    df_deces9819 = pd.concat(dfs_deces_raw)\n",
    "    df_deces9819 = df_deces9819[df_deces9819['deces_date'] <= datetime.datetime(2019, 12, 31)] # on supprime les mauvaises données pour 2020\n",
    "    \n",
    "    # save data \n",
    "    path = os.path.join(folder_treated_data, 'deces9819.pkl')\n",
    "    df_deces9819.to_pickle(path)\n",
    "    \n",
    "else:\n",
    "    # load data\n",
    "    path = os.path.join(folder_treated_data, 'deces9819.pkl')\n",
    "    df_deces9819 = pd.read_pickle(path)"
   ]
  },
  {
   "cell_type": "code",
   "execution_count": null,
   "metadata": {},
   "outputs": [],
   "source": [
    "df_deces9819.head()"
   ]
  },
  {
   "cell_type": "markdown",
   "metadata": {},
   "source": [
    "### Données détaillées sur les décès Janv 18 -Avril 20 "
   ]
  },
  {
   "cell_type": "code",
   "execution_count": null,
   "metadata": {},
   "outputs": [],
   "source": [
    "path = os.path.join(folder_data, 'DC_jan2018-avr2020_det.csv')\n",
    "df_detail_deces1820 = pd.read_csv(path, sep=';')\n",
    "for i in range(1, 10):\n",
    "    df_detail_deces1820['DEPDEC'].replace(str(i), '0' + str(i), inplace=True)\n",
    "    df_detail_deces1820['DEPDOM'].replace(str(i), '0' + str(i), inplace=True)\n",
    "    df_detail_deces1820['MDEC'].replace(i, '0' + str(i), inplace=True)\n",
    "    df_detail_deces1820['JDEC'].replace(i, '0' + str(i), inplace=True)\n",
    "df_detail_deces1820['SEXE'].replace('M', 1, inplace=True)\n",
    "df_detail_deces1820['SEXE'].replace('F', 2, inplace=True)\n",
    "df_detail_deces1820['age'] = (df_detail_deces1820['ADEC']-1-df_detail_deces1820['ANAIS']).astype('float64') #.transform(batch_age)\n",
    "df_detail_deces1820['deces_date'] = df_detail_deces1820['ADEC'].astype('str') + df_detail_deces1820['MDEC'].astype('str') + df_detail_deces1820['JDEC'].astype('str')\n",
    "df_detail_deces1820['deces_date'] = pd.to_datetime(df_detail_deces1820['deces_date'], format='%Y%m%d')\n",
    "df_detail_deces1820['jour_annee'] = df_detail_deces1820['deces_date'].transform(lambda date: (date-date.replace(month=1, day=1)).days)"
   ]
  },
  {
   "cell_type": "code",
   "execution_count": null,
   "metadata": {},
   "outputs": [],
   "source": [
    "df_detail_deces1820 = df_detail_deces1820.drop(['JDEC', 'ANAIS', 'MNAIS', 'JNAIS'], axis=1)\n",
    "df_detail_deces1820.columns = ['annee', 'month', 'depdeces', 'comdeces', 'sexe', 'depdom', 'lieudeces', 'age', 'deces_date', 'jour_annee']\n",
    "df_detail_deces1820 = df_detail_deces1820.reindex(columns=['sexe', 'deces_date', 'age', 'depdeces', 'annee', 'month', 'jour_annee', 'comdeces', 'lieudeces', 'depdom'])"
   ]
  },
  {
   "cell_type": "code",
   "execution_count": null,
   "metadata": {},
   "outputs": [],
   "source": [
    "df_detail_deces1820.head()"
   ]
  },
  {
   "cell_type": "code",
   "execution_count": null,
   "metadata": {},
   "outputs": [],
   "source": [
    "path = os.path.join(folder_treated_data, 'detail_deces1820.pkl')\n",
    "df_detail_deces1820.drop(['annee', 'month', 'jour_annee'], axis=1).to_pickle(path)"
   ]
  },
  {
   "cell_type": "markdown",
   "metadata": {},
   "source": [
    "### Ajout des décès en 2020"
   ]
  },
  {
   "cell_type": "markdown",
   "metadata": {},
   "source": [
    "L'INSEE précise que les bonnes données de décès pour 2020 sont contenues dans le fichier exceptionnel 'donnees_insee/DC_Jan-Avr_2018-2020_det.csv' et pas dans les fichiers usuels de décès utilisés précédemment."
   ]
  },
  {
   "cell_type": "code",
   "execution_count": null,
   "metadata": {},
   "outputs": [],
   "source": [
    "df_2020 = df_detail_deces1820.loc[df_detail_deces1820['annee'] == 2020]\n",
    "df_2020.drop(columns=['comdeces', 'lieudeces', 'depdom'], inplace=True)\n",
    "df_deces9820 = pd.concat([df_deces9819, df_2020])   # on rajoute les bonnes"
   ]
  },
  {
   "cell_type": "code",
   "execution_count": null,
   "metadata": {},
   "outputs": [],
   "source": [
    "df_deces9820 = df_deces9820[df_deces9820['age'] >= 20]\n",
    "df_deces9820 = df_deces9820[df_deces9820['annee'] >= 1998]\n",
    "df_deces9820 = df_deces9820.reset_index(drop=True)"
   ]
  },
  {
   "cell_type": "code",
   "execution_count": null,
   "metadata": {},
   "outputs": [],
   "source": [
    "df_deces9820.head()"
   ]
  },
  {
   "cell_type": "code",
   "execution_count": null,
   "metadata": {},
   "outputs": [],
   "source": [
    "path = os.path.join(folder_treated_data, 'deces9820.pkl')\n",
    "df_deces9820.to_pickle(path)"
   ]
  },
  {
   "cell_type": "markdown",
   "metadata": {},
   "source": [
    "### Population par âge et année "
   ]
  },
  {
   "cell_type": "code",
   "execution_count": null,
   "metadata": {},
   "outputs": [],
   "source": [
    "path = os.path.join(folder_data, 'fe_t6.xls')\n",
    "donnees_fe_t6_1 = pd.read_excel(path, sheet_name=list(map(str, range(1991, 1999))), skiprows=8, header=0, index_col=1)"
   ]
  },
  {
   "cell_type": "code",
   "execution_count": null,
   "metadata": {},
   "outputs": [],
   "source": [
    "donnees_fe_t6_1_final = {}\n",
    "for annee in range(1991, 1999):\n",
    "    donnees_fe_t6_1[str(annee)] = donnees_fe_t6_1[str(annee)].iloc[20:101,1:]\n",
    "    donnees_fe_t6_1[str(annee)].columns = ['Ensemble', 1, 2]\n",
    "    donnees_fe_t6_1[str(annee)].index = list(range(20, 101))\n",
    "    donnees_fe_t6_1_final[annee] = donnees_fe_t6_1[str(annee)].T"
   ]
  },
  {
   "cell_type": "code",
   "execution_count": null,
   "metadata": {},
   "outputs": [],
   "source": [
    "donnees_fe_t6_2 = pd.read_excel(path, sheet_name=list(map(str, range(1999, 2006))), skiprows=8, header=0, index_col=1)"
   ]
  },
  {
   "cell_type": "code",
   "execution_count": null,
   "metadata": {},
   "outputs": [],
   "source": [
    "donnees_fe_t6_2_final = {}\n",
    "for annee in range(1999, 2006):\n",
    "    donnees_fe_t6_2[str(annee)] = donnees_fe_t6_2[str(annee)].iloc[20:106,1:]\n",
    "    donnees_fe_t6_2[str(annee)].columns = ['Ensemble', 1, 2]\n",
    "    donnees_fe_t6_2[str(annee)].loc['100 '] = np.sum(donnees_fe_t6_2[str(annee)].iloc[-6:])\n",
    "    donnees_fe_t6_2[str(annee)] = donnees_fe_t6_2[str(annee)].drop(donnees_fe_t6_2[str(annee)].index[-5:])\n",
    "    donnees_fe_t6_2[str(annee)].index = list(range(20, 101))\n",
    "    donnees_fe_t6_2_final[annee] = donnees_fe_t6_2[str(annee)].T"
   ]
  },
  {
   "cell_type": "code",
   "execution_count": null,
   "metadata": {},
   "outputs": [],
   "source": [
    "donnees_fe_t6_3 = pd.read_excel(path, sheet_name=list(map(str, range(2006, 2013))), skiprows=8, index_col=1)"
   ]
  },
  {
   "cell_type": "code",
   "execution_count": null,
   "metadata": {},
   "outputs": [],
   "source": [
    "donnees_fe_t6_3_final = {}\n",
    "for annee in range(2006, 2013):\n",
    "    donnees_fe_t6_3[str(annee)] = donnees_fe_t6_3[str(annee)].iloc[20:106, [1, 2, 7]]\n",
    "    donnees_fe_t6_3[str(annee)].columns = ['Ensemble', 1, 2]\n",
    "    donnees_fe_t6_3[str(annee)].loc['100 '] = np.sum(donnees_fe_t6_3[str(annee)].iloc[-6:])\n",
    "    donnees_fe_t6_3[str(annee)] = donnees_fe_t6_3[str(annee)].drop(donnees_fe_t6_3[str(annee)].index[-5:])\n",
    "    donnees_fe_t6_3[str(annee)].index = list(range(20, 101))\n",
    "    donnees_fe_t6_3_final[annee] = donnees_fe_t6_3[str(annee)].T"
   ]
  },
  {
   "cell_type": "code",
   "execution_count": null,
   "metadata": {},
   "outputs": [],
   "source": [
    "donnees_fe_t6_4 = pd.read_excel(path, sheet_name=list(map(str, range(2013, 2018))), skiprows=3, index_col=1)"
   ]
  },
  {
   "cell_type": "code",
   "execution_count": null,
   "metadata": {},
   "outputs": [],
   "source": [
    "donnees_fe_t6_4_final = {}\n",
    "for annee in range(2013, 2018):\n",
    "    donnees_fe_t6_4[str(annee)] = donnees_fe_t6_4[str(annee)].iloc[20:106, [1, 2, 7]]\n",
    "    donnees_fe_t6_4[str(annee)].columns = ['Ensemble', 1, 2]\n",
    "    donnees_fe_t6_4[str(annee)].loc[100] = np.sum(donnees_fe_t6_4[str(annee)].iloc[-6:])\n",
    "    donnees_fe_t6_4[str(annee)] = donnees_fe_t6_4[str(annee)].drop(donnees_fe_t6_4[str(annee)].index[-5:])\n",
    "    donnees_fe_t6_4[str(annee)].index = list(range(20, 101))\n",
    "    donnees_fe_t6_4_final[annee] = donnees_fe_t6_4[str(annee)].T"
   ]
  },
  {
   "cell_type": "code",
   "execution_count": null,
   "metadata": {},
   "outputs": [],
   "source": [
    "path = os.path.join(folder_data, 'T18F032.xls')\n",
    "donnees_T18F032 = pd.read_excel(path, sheet_name=0, skiprows=3, index_col=1)\n",
    "donnees_T18F032 = donnees_T18F032.iloc[20:101, [2, 4]]\n",
    "donnees_T18F032.insert(0, 'Ensemble', donnees_T18F032['Hommes France entière'] + donnees_T18F032['Femmes France entière'])\n",
    "donnees_T18F032.index = list(range(20, 101))\n",
    "donnees_T18F032.columns = [(2018, 'Ensemble'), (2018, 1), (2018, 2)]\n",
    "donnees_T18F032 = donnees_T18F032.T"
   ]
  },
  {
   "cell_type": "code",
   "execution_count": null,
   "metadata": {},
   "outputs": [],
   "source": [
    "path = os.path.join(folder_data, 'T19F032.xls')\n",
    "donnees_T19F032 = pd.read_excel(path, sheet_name=0, skiprows=3, index_col=1)\n",
    "donnees_T19F032 = donnees_T19F032.iloc[20:101, [2, 4]]\n",
    "donnees_T19F032.insert(0, 'Ensemble', donnees_T19F032['Hommes France entière'] + donnees_T19F032['Femmes France entière'])\n",
    "donnees_T19F032.index = list(range(20, 101))\n",
    "donnees_T19F032.columns = [(2019, 'Ensemble'), (2019, 1), (2019, 2)]\n",
    "donnees_T19F032 = donnees_T19F032.T"
   ]
  },
  {
   "cell_type": "code",
   "execution_count": null,
   "metadata": {},
   "outputs": [],
   "source": [
    "path = os.path.join(folder_data, 'pop-totale-france.xls')\n",
    "donnees_pop_20 = pd.read_excel(path, sheet_name=0, skiprows=5, index_col=1)\n",
    "donnees_pop_20 = donnees_pop_20.iloc[20:101, [1, 2]]\n",
    "donnees_pop_20.insert(0, 'Ensemble', donnees_pop_20[\"Nombre d'hommes\"] + donnees_pop_20['Nombre de femmes'])\n",
    "donnees_pop_20.index = list(range(20, 101))\n",
    "donnees_pop_20.columns = [(2020, 'Ensemble'), (2020, 1), (2020, 2)]\n",
    "donnees_pop_20 = donnees_pop_20.T"
   ]
  },
  {
   "cell_type": "code",
   "execution_count": null,
   "metadata": {},
   "outputs": [],
   "source": [
    "df_pop9820 = pd.concat([pd.concat(donnees_fe_t6_1_final, sort=False), \n",
    "                pd.concat(donnees_fe_t6_2_final, sort=False),\n",
    "                pd.concat(donnees_fe_t6_3_final, sort=False),\n",
    "                pd.concat(donnees_fe_t6_4_final, sort=False),\n",
    "                10**3 * donnees_T18F032,       # 10**3 à cause du sép décimal différent dans les fichiers INSEE\n",
    "                10**3 * donnees_T19F032,\n",
    "               donnees_pop_20])"
   ]
  },
  {
   "cell_type": "code",
   "execution_count": null,
   "metadata": {},
   "outputs": [],
   "source": [
    "df_pop9820 = df_pop9820.swaplevel().sort_index()"
   ]
  },
  {
   "cell_type": "code",
   "execution_count": null,
   "metadata": {},
   "outputs": [],
   "source": [
    "path = os.path.join(folder_treated_data, 'population_age_sexe_9820.pkl')\n",
    "df_pop9820.to_pickle(path)"
   ]
  },
  {
   "cell_type": "markdown",
   "metadata": {},
   "source": [
    "### Population par classe d'âge et département "
   ]
  },
  {
   "cell_type": "code",
   "execution_count": null,
   "metadata": {},
   "outputs": [],
   "source": [
    "path = os.path.join(folder_data, 'estim-pop-dep-sexe-aq-1975-2020.xls')\n",
    "df = pd.read_excel(path, sheet_name=list(map(str, range(1999, 2021))), skiprows=3)\n",
    "pop = {}"
   ]
  },
  {
   "cell_type": "code",
   "execution_count": null,
   "metadata": {},
   "outputs": [],
   "source": [
    "def transform(df):\n",
    "    col = list(df.iloc[0])\n",
    "    col[0] = 'Département'\n",
    "    df.columns = col\n",
    "    df = df.drop(index=0)\n",
    "    df.index = df['Département']\n",
    "    return df.drop(columns='Département')"
   ]
  },
  {
   "cell_type": "code",
   "execution_count": null,
   "metadata": {},
   "outputs": [],
   "source": [
    "for annee in range(1999, 2021):\n",
    "    pop[annee] = {}\n",
    "    df_H = df[str(annee)].iloc[:97, [0] + list(range(27,43))]\n",
    "    df_F = df[str(annee)].iloc[:97, [0] + list(range(48,64))]\n",
    "    pop[annee][1] = transform(df_H)\n",
    "    pop[annee][2] = transform(df_F)\n",
    "    pop[annee] = pd.concat(pop[annee].values(), keys=pop[annee].keys(), names=['Sexe'])"
   ]
  },
  {
   "cell_type": "code",
   "execution_count": null,
   "metadata": {},
   "outputs": [],
   "source": [
    "pop = pd.concat(pop.values(), keys=pop.keys(), names=['Année']).swaplevel(i=-3, j=-1).sort_index()"
   ]
  },
  {
   "cell_type": "code",
   "execution_count": null,
   "metadata": {},
   "outputs": [],
   "source": [
    "pop"
   ]
  },
  {
   "cell_type": "code",
   "execution_count": null,
   "metadata": {},
   "outputs": [],
   "source": [
    "path = os.path.join(folder_treated_data, 'population_dep_classeage_sexe_9920.pkl')\n",
    "pop.to_pickle(path)"
   ]
  },
  {
   "cell_type": "markdown",
   "metadata": {},
   "source": [
    "### Décès en milieu hospitalier et en EHPAD "
   ]
  },
  {
   "cell_type": "code",
   "execution_count": null,
   "metadata": {},
   "outputs": [],
   "source": [
    "path = os.path.join(folder_data, 'deces_hop_ehpad.csv')\n",
    "donnees_hop_ephad = pd.read_csv(path, sep=';', usecols=['jour', 'dc off'])"
   ]
  },
  {
   "cell_type": "code",
   "execution_count": null,
   "metadata": {},
   "outputs": [],
   "source": [
    "donnees_hop_ephad = donnees_hop_ephad.loc[~donnees_hop_ephad['dc off'].isna()]\n",
    "donnees_hop_ephad['jour'] = pd.to_datetime(donnees_hop_ephad['jour'], format='%d/%m/%Y')\n",
    "donnees_hop_ephad.index = donnees_hop_ephad['jour']\n",
    "donnees_hop_ephad.drop(['jour'], axis=1, inplace=True)"
   ]
  },
  {
   "cell_type": "code",
   "execution_count": null,
   "metadata": {},
   "outputs": [],
   "source": [
    "donnees_hop_ephad.head()"
   ]
  },
  {
   "cell_type": "code",
   "execution_count": null,
   "metadata": {},
   "outputs": [],
   "source": [
    "path = os.path.join(folder_treated_data, 'deces_hop_ehpad.pkl')\n",
    "donnees_hop_ephad.to_pickle(path)"
   ]
  },
  {
   "cell_type": "code",
   "execution_count": null,
   "metadata": {},
   "outputs": [],
   "source": []
  }
 ],
 "metadata": {
  "kernelspec": {
   "display_name": "Python 3",
   "language": "python",
   "name": "python3"
  },
  "language_info": {
   "codemirror_mode": {
    "name": "ipython",
    "version": 3
   },
   "file_extension": ".py",
   "mimetype": "text/x-python",
   "name": "python",
   "nbconvert_exporter": "python",
   "pygments_lexer": "ipython3",
   "version": "3.7.3"
  },
  "widgets": {
   "application/vnd.jupyter.widget-state+json": {
    "state": {},
    "version_major": 2,
    "version_minor": 0
   }
  }
 },
 "nbformat": 4,
 "nbformat_minor": 4
}
